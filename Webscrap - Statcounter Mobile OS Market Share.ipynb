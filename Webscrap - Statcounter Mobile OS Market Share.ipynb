{
 "cells": [
  {
   "cell_type": "code",
   "execution_count": 1,
   "metadata": {},
   "outputs": [],
   "source": [
    "import pandas as pd "
   ]
  },
  {
   "cell_type": "code",
   "execution_count": 2,
   "metadata": {},
   "outputs": [],
   "source": [
    "paises= {\"Argentina\":\"AR\", \n",
    "         \"Australia\":\"AU\",\n",
    "         \"Austria\":\"AT\",\n",
    "         \"Belarus\":\"BY\", \n",
    "         \"Belgium\":\"BE\",\n",
    "         \"Belize\":\"BZ\",\n",
    "         \"Bolivia\":\"BO\",\n",
    "         \"Botswana\":\"BW\",\n",
    "         \"Brazil\":\"BR\", \n",
    "         \"Brunei Darussalam\":\"BN\",\n",
    "         \"Bulgaria\":\"BG\", \n",
    "         \"Canada\":\"CA\", \n",
    "         \"Chile\":\"CL\",\n",
    "         \"China\":\"CN\",\n",
    "         \"Colombia\":\"CO\",\n",
    "         \"Costa Rica\":\"CR\",\n",
    "         \"Croatia\":\"HR\", \n",
    "         \"Cyprus\":\"CY\",\n",
    "         \"Czech Republic\":\"CZ\",\n",
    "         \"Denmark\":\"DK\",\n",
    "         \"Ecuador\":\"EC\", \n",
    "         \"Egypt\":\"EG\",\n",
    "         \"Estonia\":\"EE\",\n",
    "         \"Finland\":\"FI\",\n",
    "         \"France\":\"FR\",\n",
    "         \"Georgia\":\"GE\",\n",
    "         \"Germany\":\"DE\",\n",
    "         \"Greece\":\"GR\",\n",
    "         \"Guatemala\":\"GT\",\n",
    "         \"Hong Kong\":\"HK\",\n",
    "         \"Hungary\":\"HU\",\n",
    "         \"Iceland\":\"IS\",\n",
    "         \"India\":\"IN\", \n",
    "         \"Indonesia\":\"ID\",\n",
    "         \"Ireland\":\"IE\",\n",
    "         \"Isreal\":\"IL\", \n",
    "         \"Italy\":\"IT\",\n",
    "         \"Jamaica\":\"JM\",\n",
    "         \"Japan\":\"JP\",\n",
    "         \"Jordan\":\"JO\",\n",
    "         \"Kenya\":\"KE\",\n",
    "         \"South Korea\":\"KR\",\n",
    "         \"Kyrgyzstan\":\"KG\",\n",
    "         \"Latvia\":\"LV\",\n",
    "         \"Lithuania\":\"LT\",\n",
    "         \"Luxembourg\":\"LU\",\n",
    "         \"Macao\":\"MO\",\n",
    "         \"Macedonia\":\"MK\",\n",
    "         \"Malaysia\":\"MY\",\n",
    "         \"Maldives\":\"MV\",\n",
    "         \"Malta\":\"MT\",\n",
    "         \"Mauritius\":\"MU\",\n",
    "         \"Mexico\":\"MX\",\n",
    "         \"Morocco\":\"MA\",\n",
    "         \"Netherlands\":\"NL\",\n",
    "         \"New Zealand\":\"NZ\",\n",
    "         \"Norway\":\"NO\",\n",
    "         \"Paraguay\":\"PY\",\n",
    "         \"Peru\":\"PE\",\n",
    "         \"Philippines\":\"PH\",\n",
    "         \"Poland\":\"PL\",\n",
    "         \"Portugal\":\"PT\",\n",
    "         \"Qatar\":\"QA\",\n",
    "         \"Romania\":\"RO\",\n",
    "         \"Russian Federation\":\"RU\",\n",
    "         \"Rwanda\":\"RW\",\n",
    "         \"Saudi Arabia\":\"SA\",\n",
    "         \"Singapore\":\"SG\",\n",
    "         \"Slovakia (Slovak Republic)\":\"SK\",\n",
    "         \"Slovenia\":\"SI\",\n",
    "         \"South Africa\":\"ZA\",\n",
    "         \"Spain\":\"ES\",\n",
    "         \"Sri Lanka\":\"LK\",\n",
    "         \"Sweden\":\"SE\",\n",
    "         \"Switzerland\":\"CH\",\n",
    "         \"Thailand\":\"TH\",\n",
    "         \"Turkey\":\"TR\",\n",
    "         \"Ukraine\":\"UA\",\n",
    "         \"United Kingdom\":\"GB\",\n",
    "         \"United States Of America\":\"US\",\n",
    "         \"Uruguay\":\"UY\"\n",
    "                 }"
   ]
  },
  {
   "cell_type": "code",
   "execution_count": 3,
   "metadata": {},
   "outputs": [
    {
     "name": "stdout",
     "output_type": "stream",
     "text": [
      "Mexico\n",
      "Morocco\n",
      "Netherlands\n",
      "New Zealand\n",
      "Norway\n",
      "Paraguay\n",
      "Peru\n",
      "Philippines\n",
      "Poland\n",
      "Portugal\n",
      "Qatar\n",
      "Romania\n",
      "Russian Federation\n",
      "Rwanda\n",
      "Saudi Arabia\n",
      "Singapore\n",
      "Slovakia (Slovak Republic)\n",
      "Slovenia\n",
      "South Africa\n",
      "Spain\n",
      "Sri Lanka\n",
      "Sweden\n",
      "Switzerland\n",
      "Thailand\n",
      "Turkey\n",
      "Ukraine\n",
      "United Kingdom\n",
      "United States Of America\n",
      "Uruguay\n"
     ]
    }
   ],
   "source": [
    "pais_data = {key: [] for key in paises.keys()}\n",
    "for pais, id_pais in paises.items():\n",
    "    pais_lower = pais.lower().replace(\" \", \"-\")\n",
    "    pais_link = pais.replace(\" \", \"%20\")\n",
    "    \n",
    "    for ano in range(2009,2020):\n",
    "        link = \"https://gs.statcounter.com/os-market-share/mobile/\" + pais_lower + \"/chart.php?device=Mobile&device_hidden=mobile&statType_hidden=os_combined&region_hidden=\" + id_pais + \"&granularity=monthly&statType=Operating%20System&region=\" + pais_link + \"&fromInt=201901&toInt=201912&fromMonthYear=\" + str(ano) + \"-01&toMonthYear=\" + str(ano) + \"-12&csv=1\"\n",
    "        df = pd.read_csv(link)\n",
    "        df[\"country\"] = pais\n",
    "        df.to_csv(pais+str(ano)+\".csv\")\n",
    "        pais_data[pais].append(df)\n",
    "    print(pais)   \n",
    "    "
   ]
  },
  {
   "cell_type": "code",
   "execution_count": 2,
   "metadata": {},
   "outputs": [],
   "source": [
    "paises = {\"Albania\":\"AL\", \"Bosnia And Herzegovina\":\"BA\", \"El Salvador\":\"SV\",\n",
    "          \"Serbia\":\"RS\"}"
   ]
  },
  {
   "cell_type": "code",
   "execution_count": 3,
   "metadata": {},
   "outputs": [
    {
     "name": "stdout",
     "output_type": "stream",
     "text": [
      "Albania\n",
      "Bosnia And Herzegovina\n",
      "El Salvador\n",
      "Serbia\n"
     ]
    }
   ],
   "source": [
    "pais_data = {key: [] for key in paises.keys()}\n",
    "for pais, id_pais in paises.items():\n",
    "    pais_lower = pais.lower().replace(\" \", \"-\")\n",
    "    pais_link = pais.replace(\" \", \"%20\")\n",
    "    \n",
    "    for ano in range(2009,2020):\n",
    "        link = \"https://gs.statcounter.com/os-market-share/mobile/\" + pais_lower + \"/chart.php?device=Mobile&device_hidden=mobile&statType_hidden=os_combined&region_hidden=\" + id_pais + \"&granularity=monthly&statType=Operating%20System&region=\" + pais_link + \"&fromInt=201901&toInt=201912&fromMonthYear=\" + str(ano) + \"-01&toMonthYear=\" + str(ano) + \"-12&csv=1\"\n",
    "        df = pd.read_csv(link)\n",
    "        df[\"country\"] = pais\n",
    "        df.to_csv(\"data/\" + pais+str(ano)+\".csv\")\n",
    "        pais_data[pais].append(df)\n",
    "    print(pais)  "
   ]
  },
  {
   "cell_type": "code",
   "execution_count": null,
   "metadata": {},
   "outputs": [],
   "source": []
  }
 ],
 "metadata": {
  "kernelspec": {
   "display_name": "Python 3",
   "language": "python",
   "name": "python3"
  },
  "language_info": {
   "codemirror_mode": {
    "name": "ipython",
    "version": 3
   },
   "file_extension": ".py",
   "mimetype": "text/x-python",
   "name": "python",
   "nbconvert_exporter": "python",
   "pygments_lexer": "ipython3",
   "version": "3.8.3"
  }
 },
 "nbformat": 4,
 "nbformat_minor": 4
}
